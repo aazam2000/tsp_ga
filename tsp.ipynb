{
 "cells": [
  {
   "cell_type": "markdown",
   "metadata": {},
   "source": [
    "# Travelling Salesman Problem implemented by Genetic Algorithm\n",
    "- "
   ]
  },
  {
   "cell_type": "code",
   "execution_count": 1,
   "metadata": {},
   "outputs": [],
   "source": [
    "#importing all libraries\n",
    "import random\n",
    "import numpy as np\n",
    "import string\n",
    "import matplotlib.pyplot as plt\n",
    "import math\n",
    "import deap\n",
    "from deap import base, creator, tools "
   ]
  },
  {
   "cell_type": "markdown",
   "metadata": {},
   "source": [
    "Working out the genetic algorithm"
   ]
  },
  {
   "cell_type": "code",
   "execution_count": 23,
   "metadata": {},
   "outputs": [],
   "source": [
    "class Runner:\n",
    "    def __init__(self, toolbox):\n",
    "        self.toolbox = toolbox\n",
    "        self.set_parameters(10, 5, 2)\n",
    "    \n",
    "    def set_parameters(self, population_size, iterations, n_matings):\n",
    "        self.iterations = iterations\n",
    "        self.population_size = population_size\n",
    "        self.n_matings = n_matings\n",
    "    \n",
    "    def set_fitness(self, population):\n",
    "        fitnesses = [(individual, self.toolbox.evaluate(individual))\n",
    "                    for individual in population\n",
    "        ]\n",
    "        for individual, fitness in fitnesses:\n",
    "            individual.fitness.values = (fitness,)\n",
    "    \n",
    "    def get_offspring(self, population):\n",
    "        n = len(population)\n",
    "        for _ in range(self.n_matings):\n",
    "            i1, i2 = np.random.choice(range(n), size = 2, replace = False)\n",
    "            offspring1, offspring2 = \\\n",
    "                self.toolbox.mate(population[i1], population[i2])\n",
    "            yield self.toolbox.mutate(offspring1)[0]\n",
    "            yield self.toolbox.mutate(offspring2)[0]\n",
    "    \n",
    "    #defining a static method\n",
    "    @staticmethod\n",
    "    def pull_stats(population, iteration = 1):\n",
    "        fitnesses = [individual.fitness.values[0] for individual in population]\n",
    "        return{\n",
    "            'i' : iteration,\n",
    "            'mu' : np.mean(fitnesses),\n",
    "            'std' : np.std(fitnesses),\n",
    "            'max' : np.max(fitnesses),\n",
    "            'min' : np.min(fitnesses)\n",
    "        }\n",
    "    def Run(self):\n",
    "        population = self.toolbox.population(n = self.population_size)\n",
    "        self.set_fitness(population)\n",
    "        stats = []\n",
    "        for iteration in list(range(1, self.iterations + 1)):\n",
    "            current_population = list(map(self.toolbox.clone, population))\n",
    "            offspring = list(self.get_offspring(current_population))\n",
    "            for child in offspring:\n",
    "                current_population.append(child)\n",
    "            #resetting fitness\n",
    "            self.set_fitness(current_population)\n",
    "            population[:] = self.toolbox.select(current_population, len(population))\n",
    "            stats.append(Runner.pull_stats(population, iteration))\n",
    "        return stats, population"
   ]
  },
  {
   "cell_type": "code",
   "execution_count": 3,
   "metadata": {},
   "outputs": [],
   "source": [
    "creator.create(\"FitnessMin\", base.Fitness, weights = (-1.0,))\n",
    "creator.create(\"individual\", list, fitness = creator.FitnessMin)"
   ]
  },
  {
   "cell_type": "markdown",
   "metadata": {},
   "source": [
    ".\n",
    "- global data/variables\n",
    "."
   ]
  },
  {
   "cell_type": "code",
   "execution_count": 4,
   "metadata": {},
   "outputs": [],
   "source": [
    "random.seed(11);\n",
    "np.random.seed(121);\n",
    "\n",
    "INDIVIDUAL_SIZE = 50\n",
    "NUMBER_OF_CITIES = 50\n",
    "POPULATION_SIZE = 200\n",
    "N_ITERATIONS = 1000\n",
    "N_MATINGS = 50"
   ]
  },
  {
   "cell_type": "markdown",
   "metadata": {},
   "source": [
    "# Defining Euclidian distance\n",
    "- cities have coordinates. We find distance between them by adding squares of the difference of x and y coordinates. And then finding the Square root."
   ]
  },
  {
   "cell_type": "code",
   "execution_count": 13,
   "metadata": {},
   "outputs": [],
   "source": [
    "def euclidianDistance(x1, y1, x2, y2):\n",
    "    sq = (x1 - x2)**2 + (y1 - y2)**2\n",
    "    r = math.sqrt(sq)\n",
    "    return r"
   ]
  },
  {
   "cell_type": "markdown",
   "metadata": {},
   "source": [
    "# defining Manhattan Distance\n",
    "- here we just find the distance by simply adding the relative x and y coordinates"
   ]
  },
  {
   "cell_type": "code",
   "execution_count": 6,
   "metadata": {},
   "outputs": [],
   "source": [
    "def manhattanDistance(x1, y1, x2, y2):\n",
    "    dist = abs(x1 - x2) + (y1 - y2)\n",
    "    return dist"
   ]
  },
  {
   "cell_type": "markdown",
   "metadata": {},
   "source": [
    "# assigning random city names and plotting them as a 100x100 scatter plot"
   ]
  },
  {
   "cell_type": "markdown",
   "metadata": {},
   "source": [
    "- assigning city names"
   ]
  },
  {
   "cell_type": "code",
   "execution_count": 7,
   "metadata": {},
   "outputs": [],
   "source": [
    "cities = [\n",
    "    ''.join(np.random.choice([c for c in string.ascii_letters], random.randint(5, 12)))\n",
    "    for i in range(NUMBER_OF_CITIES)\n",
    "]"
   ]
  },
  {
   "cell_type": "markdown",
   "metadata": {},
   "source": [
    "- printing the names"
   ]
  },
  {
   "cell_type": "code",
   "execution_count": 8,
   "metadata": {},
   "outputs": [
    {
     "name": "stdout",
     "output_type": "stream",
     "text": [
      "cviFbtGUIdEP\n",
      "lVyMNvPPtEnZ\n",
      "kdesoxEmEUKe\n",
      "PTymqNhb\n",
      "ZmIbKhn\n",
      "oaJNHbjeTtPI\n",
      "hLrSkqc\n",
      "ESQMKf\n",
      "IdcocSKcdIZL\n",
      "lwPqroQFa\n",
      "JAcbpMB\n",
      "OJyUqh\n",
      "tapdv\n",
      "SusJIRotCvl\n",
      "SxdKjnDEhAzh\n",
      "qfkeKuS\n",
      "TYnXF\n",
      "YqQhju\n",
      "Rlkri\n",
      "lmqqv\n",
      "CQzXWxAU\n",
      "fiIJaqFT\n",
      "ibqjr\n",
      "HfAJZacHyXMl\n",
      "lISOCHWSgQ\n",
      "eNThwwEkdlzP\n",
      "hNoWuAOy\n",
      "tjrJwHZw\n",
      "AlpvMcCmH\n",
      "tolnlBLxzdWx\n",
      "AHjRR\n",
      "UziVdJ\n",
      "xOrAoFyOUrjf\n",
      "rShhMbWxL\n",
      "eeWTWeVGvrK\n",
      "eWNutE\n",
      "QTZEnPgqJ\n",
      "BEwEbsysmL\n",
      "QGqVMsdz\n",
      "MfgxfCoiU\n",
      "AhZht\n",
      "KOeYcD\n",
      "tKwCdJ\n",
      "vhlbzSkOEuh\n",
      "mMEYjl\n",
      "aaOccISbh\n",
      "paaMkMTMlyp\n",
      "dZnFHO\n",
      "eIxeI\n",
      "fMemt\n"
     ]
    }
   ],
   "source": [
    "for i in range(0, 50):\n",
    "    print(cities[i])"
   ]
  },
  {
   "cell_type": "markdown",
   "metadata": {},
   "source": [
    "- printing the coordinates"
   ]
  },
  {
   "cell_type": "code",
   "execution_count": 9,
   "metadata": {},
   "outputs": [
    {
     "name": "stdout",
     "output_type": "stream",
     "text": [
      "0\n",
      "1\n",
      "2\n",
      "3\n",
      "4\n",
      "5\n",
      "6\n",
      "7\n",
      "8\n",
      "9\n",
      "10\n",
      "11\n",
      "12\n",
      "13\n",
      "14\n",
      "15\n",
      "16\n",
      "17\n",
      "18\n",
      "19\n",
      "20\n",
      "21\n",
      "22\n",
      "23\n",
      "24\n",
      "25\n",
      "26\n",
      "27\n",
      "28\n",
      "29\n",
      "30\n",
      "31\n",
      "32\n",
      "33\n",
      "34\n",
      "35\n",
      "36\n",
      "37\n",
      "38\n",
      "39\n",
      "40\n",
      "41\n",
      "42\n",
      "43\n",
      "44\n",
      "45\n",
      "46\n",
      "47\n",
      "48\n",
      "49\n"
     ]
    }
   ],
   "source": [
    "c = []\n",
    "for i in range(0, 50):\n",
    "    c.append(i)\n",
    "for i in range(0, 50):\n",
    "    print(c[i])\n",
    "\n",
    "x = []\n",
    "y = []\n",
    "\n",
    "for i in range(0, 50):\n",
    "    x.append(random.choice(c))\n",
    "for i in range(0, 50):\n",
    "    y.append(random.choice(c))"
   ]
  },
  {
   "cell_type": "code",
   "execution_count": 10,
   "metadata": {},
   "outputs": [
    {
     "name": "stdout",
     "output_type": "stream",
     "text": [
      "13    37\n",
      "13    19\n",
      "3    1\n",
      "30    13\n",
      "24    11\n",
      "45    25\n",
      "25    38\n",
      "26    41\n",
      "4    36\n",
      "36    6\n",
      "40    2\n",
      "12    9\n",
      "49    13\n",
      "43    28\n",
      "17    16\n",
      "21    0\n",
      "5    49\n",
      "19    39\n",
      "21    21\n",
      "0    18\n",
      "26    24\n",
      "48    4\n",
      "7    4\n",
      "8    5\n",
      "15    13\n",
      "45    37\n",
      "6    40\n",
      "0    15\n",
      "3    0\n",
      "29    38\n",
      "31    23\n",
      "11    23\n",
      "43    39\n",
      "35    29\n",
      "12    8\n",
      "28    37\n",
      "32    30\n",
      "12    36\n",
      "46    8\n",
      "49    24\n",
      "8    11\n",
      "26    40\n",
      "41    9\n",
      "24    19\n",
      "7    14\n",
      "25    39\n",
      "26    15\n",
      "13    46\n",
      "0    12\n",
      "17    10\n"
     ]
    }
   ],
   "source": [
    "for i in range(0, 50):\n",
    "    print(x[i], \"  \", y[i])"
   ]
  },
  {
   "cell_type": "markdown",
   "metadata": {},
   "source": [
    "- preparing to plot"
   ]
  },
  {
   "cell_type": "code",
   "execution_count": 11,
   "metadata": {},
   "outputs": [
    {
     "name": "stdout",
     "output_type": "stream",
     "text": [
      "Plotting Cities on graph\n"
     ]
    },
    {
     "data": {
      "image/png": "[encoded data removed]",
      "text/plain": [
       "<Figure size 432x288 with 1 Axes>"
      ]
     },
     "metadata": {
      "needs_background": "light"
     },
     "output_type": "display_data"
    }
   ],
   "source": [
    "print('Plotting Cities on graph')\n",
    "plt.scatter(x, y)\n",
    "plt.show()"
   ]
  },
  {
   "cell_type": "markdown",
   "metadata": {},
   "source": [
    "calculating distances"
   ]
  },
  {
   "cell_type": "code",
   "execution_count": 14,
   "metadata": {},
   "outputs": [],
   "source": [
    "distances = np.zeros((NUMBER_OF_CITIES, NUMBER_OF_CITIES))\n",
    "for city in range(NUMBER_OF_CITIES):\n",
    "    for to_city in [i for i in range(NUMBER_OF_CITIES) if not i ==city]:\n",
    "        distances[to_city][city] = \\\n",
    "            distances[city][to_city] = euclidianDistance(x[city], y[city], x[to_city], y[to_city])\n"
   ]
  },
  {
   "cell_type": "code",
   "execution_count": 15,
   "metadata": {},
   "outputs": [],
   "source": [
    "toolbox = base.Toolbox()"
   ]
  },
  {
   "cell_type": "code",
   "execution_count": 17,
   "metadata": {},
   "outputs": [],
   "source": [
    "#permutation setup on individual level\n",
    "toolbox.register(\"indices\", random.sample, range(INDIVIDUAL_SIZE), INDIVIDUAL_SIZE)\n",
    "toolbox.register(\"individual\", tools.initIterate, creator.individual, toolbox.indices)"
   ]
  },
  {
   "cell_type": "code",
   "execution_count": 18,
   "metadata": {},
   "outputs": [],
   "source": [
    "#population setup\n",
    "toolbox.register('population', tools.initRepeat, list, toolbox.individual)"
   ]
  },
  {
   "cell_type": "code",
   "execution_count": 19,
   "metadata": {},
   "outputs": [],
   "source": [
    "def EVALUATE(individual):\n",
    "    summation = 0\n",
    "    start = individual[0]\n",
    "    for i in range(1, len(individual)):\n",
    "        end = individual[i]\n",
    "        summation += distances[start][end]\n",
    "        start = end\n",
    "    return summation"
   ]
  },
  {
   "cell_type": "code",
   "execution_count": 20,
   "metadata": {},
   "outputs": [],
   "source": [
    "toolbox.register(\"evaluate\", EVALUATE)"
   ]
  },
  {
   "cell_type": "code",
   "execution_count": 21,
   "metadata": {},
   "outputs": [],
   "source": [
    "toolbox.register(\"mate\", tools.cxOrdered)\n",
    "toolbox.register(\"mutate\", tools.mutShuffleIndexes, indpb = 0.01)\n",
    "toolbox.register(\"select\", tools.selTournament, tournsize = 10)"
   ]
  },
  {
   "cell_type": "code",
   "execution_count": 24,
   "metadata": {},
   "outputs": [
    {
     "data": {
      "image/png": "[encoded data removed]",
      "text/plain": [
       "<Figure size 720x720 with 2 Axes>"
      ]
     },
     "metadata": {
      "needs_background": "light"
     },
     "output_type": "display_data"
    }
   ],
   "source": [
    "a = Runner(toolbox)\n",
    "a.set_parameters(POPULATION_SIZE, N_ITERATIONS, N_MATINGS)\n",
    "stats, population = a.Run()\n",
    "plt.figure(figsize = (10,10))\n",
    "plt.subplot(1,2,1)\n",
    "_= plt.scatter([s['min'] for s in stats], [s['max'] for s in stats], marker = '.', s = [(s['std'] + 1) / 20 for s in stats])\n",
    "_= plt.title('MIN BY MAX')\n",
    "_= plt.xlabel('min')\n",
    "_= plt.ylabel('max')\n",
    "_= plt.plot(stats[0]['min'], stats[0]['max'], marker = '.', color = 'yellow')\n",
    "_= plt.plot(stats[-1]['min'], stats[-1]['max'], marker = '.', color = 'red')\n",
    "\n",
    "plt.subplot(1,2,2)\n",
    "_= plt.scatter([s['i'] for s in stats], [s['mu'] for s in stats], marker = '.', s = [(s['std'] + 1) / 20 for s in stats])\n",
    "_= plt.title('AVERAGE BY ITERATION')\n",
    "_= plt.xlabel('ITERATION')\n",
    "_= plt.ylabel('AVERAH=GE')\n",
    "_= plt.plot(stats[0]['i'], stats[0]['mu'], marker = '.', color = 'yellow')\n",
    "_= plt.plot(stats[-1]['i'], stats[-1]['mu'], marker = '.', color = 'red')\n",
    "\n",
    "plt.tight_layout()"
   ]
  },
  {
   "cell_type": "code",
   "execution_count": 25,
   "metadata": {},
   "outputs": [],
   "source": [
    "plt.show()"
   ]
  },
  {
   "cell_type": "code",
   "execution_count": 26,
   "metadata": {},
   "outputs": [
    {
     "data": {
      "text/plain": [
       "[(0, 334.170232672984),\n",
       " (1, 334.170232672984),\n",
       " (3, 334.170232672984),\n",
       " (5, 334.170232672984),\n",
       " (6, 334.170232672984)]"
      ]
     },
     "execution_count": 26,
     "metadata": {},
     "output_type": "execute_result"
    }
   ],
   "source": [
    "fitnesses = sorted([\n",
    "    (i, toolbox.evaluate(individual))\n",
    "    for i, individual in enumerate(population)\n",
    "], key = lambda x: x[1])\n",
    "\n",
    "fitnesses[:5]"
   ]
  },
  {
   "cell_type": "code",
   "execution_count": null,
   "metadata": {},
   "outputs": [],
   "source": []
  }
 ],
 "metadata": {
  "kernelspec": {
   "display_name": "Python 3",
   "language": "python",
   "name": "python3"
  },
  "language_info": {
   "codemirror_mode": {
    "name": "ipython",
    "version": 3
   },
   "file_extension": ".py",
   "mimetype": "text/x-python",
   "name": "python",
   "nbconvert_exporter": "python",
   "pygments_lexer": "ipython3",
   "version": "3.8.3"
  }
 },
 "nbformat": 4,
 "nbformat_minor": 4
}
